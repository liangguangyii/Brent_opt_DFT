{
 "cells": [
  {
   "cell_type": "code",
   "execution_count": 1,
   "metadata": {},
   "outputs": [],
   "source": [
    "import os\n",
    "import math"
   ]
  },
  {
   "cell_type": "code",
   "execution_count": 2,
   "metadata": {},
   "outputs": [],
   "source": [
    "'''\n",
    "@breif: function for debugging\n",
    "@param x: input\n",
    "@return y\n",
    "'''\n",
    "\n",
    "def fun3(x):\n",
    "    y = (1.0/3.0)*x**3 - 0.5*x**2 - x - 1.0\n",
    "    return y\n",
    "\n",
    "def func(x):\n",
    "    y = math.cos(x)\n",
    "    return y\n",
    "\n",
    "'''\n",
    "@breif: parabolic interpolation method\n",
    "@param x1, y1, x2, y2, x3, y3: three points\n",
    "@return p, q: x4 = x3 + p/q               \n",
    "'''\n",
    "\n",
    "# x3<x2, x1\n",
    "#x = (x1^2*(y2-y3)+x2^2*(y3-y1)+x3^2*(y1-y2))/(2*(x1*(y2-y3)+x2*(y3-y1)+x3*(y1-y2)))\n",
    "#which is invariant under the permutation of the three points\n",
    "def parabolic_interpolation(x1, y1, x2, y2, x3, y3):\n",
    "    p = (x2 - x3)**2 * (y3 - y1) + (x1 - x3)**2 * (y2 - y3)\n",
    "    q = 2.0 * ((x2 - x3) * (y3 - y1) + (x1 - x3) * (y2 - y3))\n",
    "    return p, q\n",
    "    \n",
    "'''\n",
    "@breif: brent method in one iteration, in one iteration, only one new point is evaluated(fu)\n",
    "\n",
    "@param a, b: boundary of the interval\n",
    "@param v, fv: the old value of w\n",
    "@param w, fw: second least value\n",
    "@param x, fx: the least value\n",
    "@param fun_p: the function to be minimized\n",
    "@param dx: the last step length\n",
    "@param dxold: the last last step length\n",
    "\n",
    "@return fv, fw, fx: updated values\n",
    "@return a, b, v, w, x, dx, dxold: updated values\n",
    "@return u: last evaluated point\n",
    "'''\n",
    "\n",
    "#* here I updated the values of fv, fw, fx to save the computation time, only fu is evaluated in one iteration\n",
    "def brent(a, b, v, fv, w, fw, x, fx, fun_p, dx, dxold):\n",
    "    CGOLD = 0.381966013\n",
    "    xm = 0.5 * (a + b)\n",
    "\n",
    "    #perform parabolic interpolation using v, w, x (x the minimum point)\n",
    "    p, q = parabolic_interpolation(v, fv, w, fw, x, fx)\n",
    "\n",
    "    #Boolean variables for the safety of parabolic interpolation\n",
    "    #* qSafe: q is not zero\n",
    "    qSafe = True if (q != 0) else False\n",
    "\n",
    "    tempdx = p/q if qSafe else 0.0\n",
    "    #* paraSafe:\n",
    "    #* 1. q is not zero\n",
    "    #* 2. the new point is within the interval\n",
    "    #* 3. the new step length is less than half of the last last step length\n",
    "    paraSafe = True if (qSafe and (a < x+tempdx) and (x+tempdx < b) and (abs(tempdx) < 0.5*abs(dxold))) else False\n",
    "\n",
    "    #update the dx and store the last last step length for next iteration\n",
    "\n",
    "    if paraSafe:\n",
    "        dxold = dx\n",
    "        dx = tempdx\n",
    "    else:\n",
    "        if x < xm:\n",
    "            dxold = b - x\n",
    "        else:\n",
    "            dxold = a - x\n",
    "        dx = CGOLD * dxold\n",
    "\n",
    "    #! evaluate the new point\n",
    "    u = x + dx\n",
    "    fu = fun_p(u)\n",
    "\n",
    "    if (fu < fx):\n",
    "        #* update the boundary of interval\n",
    "        a = a if (u < x) else x\n",
    "        b = x if (u < x) else b\n",
    "        #* update the values of v, w, x\n",
    "        v = w\n",
    "        fv = fw\n",
    "        w = x\n",
    "        fw = fx\n",
    "        x = u\n",
    "        fx = fu\n",
    "    else:\n",
    "        #* update the boundary of interval\n",
    "        a = u if (u < x) else a\n",
    "        b = b if (u < x) else u\n",
    "\n",
    "        #* update the values of v, w, x\n",
    "        if (fu < fw) or (w == x):\n",
    "            v = w\n",
    "            fv = fw\n",
    "            w = u\n",
    "            fw = fu\n",
    "        elif (fu < fv) or (v == x) or (v == w):\n",
    "            v = u\n",
    "            fv = fu\n",
    "    \n",
    "    return a, b, v, fv, w, fw, x, fx, dx, dxold\n",
    "\n",
    "'''\n",
    "@breif: brent method\n",
    "@param a0, b0: initial boundary of the interval\n",
    "@param xguess: initial guess of the minimum point\n",
    "@param fun_p: the function to be minimized\n",
    "@param tol: tolerance\n",
    "\n",
    "@return xmin: the minimum point\n",
    "@return icount: the number of iterations\n",
    "'''\n",
    "def brentMethod(a0, b0, xguess, fun_p, tol):\n",
    "    Maxloop = 100\n",
    "\n",
    "    icount = 0\n",
    "    #! evaluate the function at the initial guess\n",
    "    y0 = fun_p(xguess)\n",
    "    a, b, v, fv, w, fw, x, fx, dx, dxold = brent(a0, b0, xguess, y0, xguess, y0, xguess, y0, fun_p, 0.0, 0.0)\n",
    "\n",
    "    print(f\"x:\\t{x:.6f}\\ty:\\t{fx:.12f}\")\n",
    "\n",
    "    for i in range(Maxloop):\n",
    "        a, b, v, fv, w, fw, x, fx, dx, dxold = brent(a, b, v, fv, w, fw, x, fx, fun_p, dx, dxold)\n",
    "\n",
    "        print(f\"x:\\t{x:.6f}\\ty:\\t{fx:.12f}\")\n",
    "\n",
    "        icount += 1\n",
    "        if (abs(b - a) < tol):\n",
    "            xmin = 0.5 * (a + b)\n",
    "            break\n",
    "            \n",
    "    return xmin, icount\n",
    "        \n"
   ]
  },
  {
   "cell_type": "code",
   "execution_count": 3,
   "metadata": {},
   "outputs": [
    {
     "name": "stdout",
     "output_type": "stream",
     "text": [
      "x:\t3.708204\ty:\t-0.843724805852\n",
      "x:\t3.708204\ty:\t-0.843724805852\n",
      "x:\t3.262151\ty:\t-0.992741587697\n",
      "x:\t3.135621\ty:\t-0.999982168936\n",
      "x:\t3.139712\ty:\t-0.999998231072\n",
      "x:\t3.141597\ty:\t-0.999999999990\n",
      "x:\t3.141593\ty:\t-1.000000000000\n",
      "x:\t3.141593\ty:\t-1.000000000000\n",
      "Minimum point: 3.141594879802334 Iteration: 7 \n"
     ]
    }
   ],
   "source": [
    "xmin, icount = brentMethod(0.0, 2.0, 6.0, func, 1.0e-5)\n",
    "print(f\"Minimum point: {xmin} Iteration: {icount} \")"
   ]
  },
  {
   "cell_type": "code",
   "execution_count": 4,
   "metadata": {},
   "outputs": [
    {
     "name": "stdout",
     "output_type": "stream",
     "text": [
      "x:\t2.472136\ty:\t-1.491747210146\n",
      "x:\t1.527864\ty:\t-2.506182393311\n",
      "x:\t1.527864\ty:\t-2.506182393311\n",
      "x:\t1.621020\ty:\t-2.515018348785\n",
      "x:\t1.616276\ty:\t-2.515024871313\n",
      "x:\t1.618016\ty:\t-2.515028323606\n",
      "x:\t1.618033\ty:\t-2.515028323958\n",
      "x:\t1.618034\ty:\t-2.515028323958\n",
      "x:\t1.618034\ty:\t-2.515028323958\n",
      "x:\t1.618034\ty:\t-2.515028323958\n",
      "x:\t1.618034\ty:\t-2.515028323958\n",
      "x:\t1.618034\ty:\t-2.515028323958\n",
      "x:\t1.618034\ty:\t-2.515028323958\n",
      "x:\t1.618034\ty:\t-2.515028323958\n",
      "x:\t1.618034\ty:\t-2.515028323958\n",
      "x:\t1.618034\ty:\t-2.515028323958\n",
      "Minimum point: 1.6180386286234483 Iteration: 15 \n"
     ]
    }
   ],
   "source": [
    "xmin, icount = brentMethod(0.0, 2.0, 4.0, fun3, 1.0e-5)\n",
    "print(f\"Minimum point: {xmin} Iteration: {icount} \")"
   ]
  },
  {
   "cell_type": "code",
   "execution_count": 5,
   "metadata": {},
   "outputs": [],
   "source": [
    "'''\n",
    "@breif: find the spin index in the gjf file\n",
    "by locating the second blank line index, then add 1\n",
    "\n",
    "@param filename: default filename is \"template.gjf\"\n",
    "\n",
    "@retrun iopIndex: the index of the iop line (start from 1)\n",
    "@return spinIndex: the index of the spin line (start from 1)\n",
    "'''\n",
    "def findSpinIndex(filename = \"template.gjf\"):\n",
    "\n",
    "    with open(filename, \"r\") as gjf:\n",
    "        icount = 0\n",
    "        blankCount = 0\n",
    "        \n",
    "        for line in gjf:\n",
    "            icount += 1\n",
    "            if line == \"\\n\":\n",
    "                blankCount += 1\n",
    "            if blankCount == 2:\n",
    "                spinIndex = icount + 1\n",
    "                break\n",
    "        \n",
    "        iopIndex = spinIndex - 4\n",
    "\n",
    "    return iopIndex, spinIndex\n",
    "\n",
    "'''\n",
    "@brief: generate gjf with N+1, N, N-1 spins in different IOp(3/107, 3/108) values (int(wpara*1000):05 + 0:05 format)\n",
    "\n",
    "@param Nspin: \"charge spin\" of N\n",
    "@param Naspin: \"charge spin\" of N+1\n",
    "@param Nmspin: \"charge spin\" of N-1\n",
    "@param wpara: the parameter for the IOp(3/107, 3/108) value\n",
    "@param filename: the template file name, default is \"template.gjf\"\n",
    "\n",
    "\n",
    "@return: void, three gjf files: N.gjf, N+1.gjf, N-1.gjf\n",
    "'''\n",
    "#! here I use f\"{int(wpara*10000):05}\" to convert the float to string, by adding 5 zeros\n",
    "\n",
    "def g16input(Nspin, Naspin, Nmspin, wpara, filename = \"template.gjf\"):\n",
    "\n",
    "    iopIndex, spinIndex = findSpinIndex()\n",
    "\n",
    "    with open(\"N.gjf\", \"w\") as Ngjf, open(\"N+1.gjf\", \"w\") as Nagjf, open(\"N-1.gjf\", \"w\") as Nmgjf:\n",
    "        with open(filename, \"r\") as gjf:\n",
    "            icount = 0\n",
    "            for line in gjf:\n",
    "                icount += 1\n",
    "                if icount == iopIndex:\n",
    "                    tempIop = line.strip()  #*remove the newline character\n",
    "                    str_wpara = f\"{int(wpara*10000):05}\"   #*convert the float to string, by adding 5 zeros\n",
    "                    str_iop = str_wpara + f\"{0:05}\"\n",
    "                    \n",
    "                    Ngjf.write(f\"{tempIop} IOp(3/107={str_iop},3/108={str_iop})\\n\")\n",
    "                    Nagjf.write(f\"{tempIop} IOp(3/107={str_iop},3/108={str_iop})\\n\")\n",
    "                    Nmgjf.write(f\"{tempIop} IOp(3/107={str_iop},3/108={str_iop})\\n\")\n",
    "\n",
    "                elif icount == spinIndex:\n",
    "                    Ngjf.write(f\"{Nspin}\\n\")\n",
    "                    Nagjf.write(f\"{Naspin}\\n\")\n",
    "                    Nmgjf.write(f\"{Nmspin}\\n\")\n",
    "                else:\n",
    "                    Ngjf.write(line)\n",
    "                    Nagjf.write(line)\n",
    "                    Nmgjf.write(line)\n",
    "\n",
    "\n",
    "'''\n",
    "@brief: read the SCF energy and eigenvalues of HOMO orbital\n",
    "\n",
    "@param: filename the log file\n",
    "\n",
    "@return: SCFenergy, eHOMO\n",
    "'''\n",
    "\n",
    "#* NOTICE: sometimes there will be not one SCF iterations in a log file,\n",
    "#* such as stable=opt, and we take the newest values\n",
    "def g16read(filename):\n",
    "    success = False\n",
    "\n",
    "    with open(filename, \"r\") as log:\n",
    "        for line in log:\n",
    "            if \"SCF Done\" in line:\n",
    "                templine = line.split()\n",
    "                SCFenergy = float(templine[4])\n",
    "            if \"Alpha virt. eigenvalues\" in line and \"Alpha  occ. eigenvalues\" in prev_line:\n",
    "                templine = prev_line.split()\n",
    "                eHOMO = float(templine[-1])\n",
    "            #* check if succeed\n",
    "            if \"Normal termination\" in line:\n",
    "                success = True\n",
    "            prev_line = line    #! prev_line should be updated in the end of line\n",
    "\n",
    "        if not success:\n",
    "            raise Exception(\"Error: Gaussian doesn't finish correctly. (Does not finished normally.)\")\n",
    "    \n",
    "    return SCFenergy, eHOMO"
   ]
  },
  {
   "cell_type": "code",
   "execution_count": 7,
   "metadata": {
    "vscode": {
     "languageId": "perl"
    }
   },
   "outputs": [],
   "source": [
    "#! only in my computer\n",
    "\n",
    "'''\n",
    "@brief: read the energy from the Gaussian output file, as a function y(x)\n",
    "\n",
    "@param wpara: parameter of functional LC-wPBE, as x\n",
    "@return: J2, as y\n",
    "\n",
    "@global: Nspin, Naspin, Nmspin\n",
    "'''\n",
    "\n",
    "def funJ2(wpara):\n",
    "    global Nspin, Naspin, Nmspin\n",
    "\n",
    "    g16input(Nspin, Naspin, Nmspin, wpara)\n",
    "    #* run g16\n",
    "    #! remove the module load command later\n",
    "    exitcode1 = os.system(\"module load Gaussian16-B01;g16 < N.gjf > N.log\")\n",
    "    exitcode2 = os.system(\"module load Gaussian16-B01;g16 < N+1.gjf > N+1.log\")\n",
    "    exitcode3 = os.system(\"module load Gaussian16-B01;g16 < N-1.gjf > N-1.log\")\n",
    "\n",
    "    #* check the exit code (non-zero means error)\n",
    "    if exitcode1 or exitcode2 or exitcode3:\n",
    "        print(\"Error in Gaussian16\")\n",
    "        raise Exception(\"Error: Gaussian doesn't finish correctly. (exitcode does not equal to 0)\")\n",
    "\n",
    "    #* store the output files\n",
    "    tempstr = f\"{int(wpara*10000):05}\" \n",
    "    os.system(f\"mkdir {tempstr}\")\n",
    "    os.system(f\"cp *.log {tempstr}\")\n",
    "\n",
    "    #* extract the energy\n",
    "    EN, eN = g16read(\"N.log\")\n",
    "    ENa, eNa = g16read(\"N+1.log\")\n",
    "    ENm, eNm = g16read(\"N-1.log\")\n",
    "\n",
    "    JN = abs(eN + ENm - EN)\n",
    "    JNa = abs(eNa + EN - ENa)\n",
    "    J2 = JN**2 + JNa**2\n",
    "\n",
    "    return J2\n",
    "\n"
   ]
  },
  {
   "cell_type": "code",
   "execution_count": 9,
   "metadata": {
    "vscode": {
     "languageId": "perl"
    }
   },
   "outputs": [
    {
     "name": "stderr",
     "output_type": "stream",
     "text": [
      "Loading Gaussian16-B01\n",
      "  Loading requirement: oneapi\n",
      "Loading Gaussian16-B01\n",
      "  Loading requirement: oneapi\n",
      "Loading Gaussian16-B01\n",
      "  Loading requirement: oneapi\n"
     ]
    },
    {
     "name": "stdout",
     "output_type": "stream",
     "text": [
      "5.657249742848371e-05\n"
     ]
    },
    {
     "name": "stderr",
     "output_type": "stream",
     "text": [
      "mkdir: cannot create directory ‘04387’: File exists\n"
     ]
    }
   ],
   "source": [
    "J2 = funJ2(0.4387)\n",
    "print(J2)"
   ]
  },
  {
   "cell_type": "code",
   "execution_count": 9,
   "metadata": {
    "vscode": {
     "languageId": "perl"
    }
   },
   "outputs": [
    {
     "name": "stderr",
     "output_type": "stream",
     "text": [
      "Loading Gaussian16-B01\n",
      "  Loading requirement: oneapi\n",
      "Loading Gaussian16-B01\n",
      "  Loading requirement: oneapi\n",
      "Loading Gaussian16-B01\n",
      "  Loading requirement: oneapi\n"
     ]
    },
    {
     "name": "stdout",
     "output_type": "stream",
     "text": [
      "5.649663248766607e-05\n"
     ]
    },
    {
     "name": "stderr",
     "output_type": "stream",
     "text": [
      "mkdir: cannot create directory ‘04390’: File exists\n"
     ]
    }
   ],
   "source": [
    "J2 = funJ2(0.439055)\n",
    "print(J2)"
   ]
  },
  {
   "cell_type": "code",
   "execution_count": 8,
   "metadata": {},
   "outputs": [
    {
     "name": "stderr",
     "output_type": "stream",
     "text": [
      "Loading Gaussian16-B01\n",
      "  Loading requirement: oneapi\n",
      "Loading Gaussian16-B01\n",
      "  Loading requirement: oneapi\n",
      "Loading Gaussian16-B01\n",
      "  Loading requirement: oneapi\n",
      "mkdir: cannot create directory ‘06000’: File exists\n",
      "Loading Gaussian16-B01\n",
      "  Loading requirement: oneapi\n",
      "Loading Gaussian16-B01\n",
      "  Loading requirement: oneapi\n",
      "Loading Gaussian16-B01\n",
      "  Loading requirement: oneapi\n",
      "mkdir: cannot create directory ‘03899’: File exists\n"
     ]
    },
    {
     "name": "stdout",
     "output_type": "stream",
     "text": [
      "x:\t0.389919\ty:\t0.000179826572\n"
     ]
    },
    {
     "name": "stderr",
     "output_type": "stream",
     "text": [
      "Loading Gaussian16-B01\n",
      "  Loading requirement: oneapi\n",
      "Loading Gaussian16-B01\n",
      "  Loading requirement: oneapi\n",
      "Loading Gaussian16-B01\n",
      "  Loading requirement: oneapi\n",
      "mkdir: cannot create directory ‘02600’: File exists\n"
     ]
    },
    {
     "name": "stdout",
     "output_type": "stream",
     "text": [
      "x:\t0.389919\ty:\t0.000179826572\n"
     ]
    },
    {
     "name": "stderr",
     "output_type": "stream",
     "text": [
      "Loading Gaussian16-B01\n",
      "  Loading requirement: oneapi\n",
      "Loading Gaussian16-B01\n",
      "  Loading requirement: oneapi\n",
      "Loading Gaussian16-B01\n",
      "  Loading requirement: oneapi\n",
      "mkdir: cannot create directory ‘04688’: File exists\n"
     ]
    },
    {
     "name": "stdout",
     "output_type": "stream",
     "text": [
      "x:\t0.468801\ty:\t0.000092502956\n"
     ]
    },
    {
     "name": "stderr",
     "output_type": "stream",
     "text": [
      "Loading Gaussian16-B01\n",
      "  Loading requirement: oneapi\n",
      "Loading Gaussian16-B01\n",
      "  Loading requirement: oneapi\n",
      "Loading Gaussian16-B01\n",
      "  Loading requirement: oneapi\n",
      "mkdir: cannot create directory ‘04464’: File exists\n"
     ]
    },
    {
     "name": "stdout",
     "output_type": "stream",
     "text": [
      "x:\t0.446409\ty:\t0.000058686365\n"
     ]
    },
    {
     "name": "stderr",
     "output_type": "stream",
     "text": [
      "Loading Gaussian16-B01\n",
      "  Loading requirement: oneapi\n",
      "Loading Gaussian16-B01\n",
      "  Loading requirement: oneapi\n",
      "Loading Gaussian16-B01\n",
      "  Loading requirement: oneapi\n",
      "mkdir: cannot create directory ‘04413’: File exists\n"
     ]
    },
    {
     "name": "stdout",
     "output_type": "stream",
     "text": [
      "x:\t0.441306\ty:\t0.000056738234\n"
     ]
    },
    {
     "name": "stderr",
     "output_type": "stream",
     "text": [
      "Loading Gaussian16-B01\n",
      "  Loading requirement: oneapi\n",
      "Loading Gaussian16-B01\n",
      "  Loading requirement: oneapi\n",
      "Loading Gaussian16-B01\n",
      "  Loading requirement: oneapi\n",
      "mkdir: cannot create directory ‘04392’: File exists\n"
     ]
    },
    {
     "name": "stdout",
     "output_type": "stream",
     "text": [
      "x:\t0.439207\ty:\t0.000056537641\n"
     ]
    },
    {
     "name": "stderr",
     "output_type": "stream",
     "text": [
      "Loading Gaussian16-B01\n",
      "  Loading requirement: oneapi\n",
      "Loading Gaussian16-B01\n",
      "  Loading requirement: oneapi\n",
      "Loading Gaussian16-B01\n",
      "  Loading requirement: oneapi\n",
      "mkdir: cannot create directory ‘04390’: File exists\n"
     ]
    },
    {
     "name": "stdout",
     "output_type": "stream",
     "text": [
      "x:\t0.439055\ty:\t0.000056496632\n"
     ]
    },
    {
     "name": "stderr",
     "output_type": "stream",
     "text": [
      "Loading Gaussian16-B01\n",
      "  Loading requirement: oneapi\n",
      "Loading Gaussian16-B01\n",
      "  Loading requirement: oneapi\n",
      "Loading Gaussian16-B01\n",
      "  Loading requirement: oneapi\n",
      "mkdir: cannot create directory ‘04202’: File exists\n"
     ]
    },
    {
     "name": "stdout",
     "output_type": "stream",
     "text": [
      "x:\t0.439055\ty:\t0.000056496632\n"
     ]
    },
    {
     "name": "stderr",
     "output_type": "stream",
     "text": [
      "Loading Gaussian16-B01\n",
      "  Loading requirement: oneapi\n",
      "Loading Gaussian16-B01\n",
      "  Loading requirement: oneapi\n",
      "Loading Gaussian16-B01\n",
      "  Loading requirement: oneapi\n",
      "mkdir: cannot create directory ‘04318’: File exists\n"
     ]
    },
    {
     "name": "stdout",
     "output_type": "stream",
     "text": [
      "x:\t0.439055\ty:\t0.000056496632\n"
     ]
    },
    {
     "name": "stderr",
     "output_type": "stream",
     "text": [
      "Loading Gaussian16-B01\n",
      "  Loading requirement: oneapi\n",
      "Loading Gaussian16-B01\n",
      "  Loading requirement: oneapi\n",
      "Loading Gaussian16-B01\n",
      "  Loading requirement: oneapi\n",
      "mkdir: cannot create directory ‘04363’: File exists\n"
     ]
    },
    {
     "name": "stdout",
     "output_type": "stream",
     "text": [
      "x:\t0.439055\ty:\t0.000056496632\n"
     ]
    },
    {
     "name": "stderr",
     "output_type": "stream",
     "text": [
      "Loading Gaussian16-B01\n",
      "  Loading requirement: oneapi\n",
      "Loading Gaussian16-B01\n",
      "  Loading requirement: oneapi\n",
      "Loading Gaussian16-B01\n",
      "  Loading requirement: oneapi\n",
      "mkdir: cannot create directory ‘04380’: File exists\n"
     ]
    },
    {
     "name": "stdout",
     "output_type": "stream",
     "text": [
      "x:\t0.439055\ty:\t0.000056496632\n"
     ]
    },
    {
     "name": "stderr",
     "output_type": "stream",
     "text": [
      "Loading Gaussian16-B01\n",
      "  Loading requirement: oneapi\n",
      "Loading Gaussian16-B01\n",
      "  Loading requirement: oneapi\n",
      "Loading Gaussian16-B01\n",
      "  Loading requirement: oneapi\n",
      "mkdir: cannot create directory ‘04387’: File exists\n"
     ]
    },
    {
     "name": "stdout",
     "output_type": "stream",
     "text": [
      "x:\t0.439055\ty:\t0.000056496632\n"
     ]
    }
   ],
   "source": [
    "Nspin = \"0 1\"\n",
    "Naspin = \"-1 2\"\n",
    "Nmspin = \"1 2\"\n",
    "\n",
    "xmin, icount = brentMethod(0.05, 0.325, 0.6, funJ2, 1.0e-3)"
   ]
  }
 ],
 "metadata": {
  "kernelspec": {
   "display_name": "Python 3",
   "language": "python",
   "name": "python3"
  },
  "language_info": {
   "codemirror_mode": {
    "name": "ipython",
    "version": 3
   },
   "file_extension": ".py",
   "mimetype": "text/x-python",
   "name": "python",
   "nbconvert_exporter": "python",
   "pygments_lexer": "ipython3",
   "version": "3.9.18"
  }
 },
 "nbformat": 4,
 "nbformat_minor": 2
}
